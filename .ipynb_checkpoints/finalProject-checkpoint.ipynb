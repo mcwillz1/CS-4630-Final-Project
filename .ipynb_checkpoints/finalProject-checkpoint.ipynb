{
 "cells": [
  {
   "cell_type": "markdown",
   "id": "08778292",
   "metadata": {},
   "source": [
    "<h2> CS 4630 Final project </h2>"
   ]
  },
  {
   "cell_type": "code",
   "execution_count": 5,
   "id": "0f86ab6c",
   "metadata": {},
   "outputs": [],
   "source": [
    "#Importing Libs\n",
    "import requests\n",
    "import os, sys\n",
    "import numpy as np\n",
    "import pandas as pd\n",
    "import urllib.request\n",
    "from bs4 import BeautifulSoup"
   ]
  },
  {
   "cell_type": "code",
   "execution_count": 12,
   "id": "37c5632d",
   "metadata": {},
   "outputs": [
    {
     "data": {
      "text/html": [
       "<div>\n",
       "<style scoped>\n",
       "    .dataframe tbody tr th:only-of-type {\n",
       "        vertical-align: middle;\n",
       "    }\n",
       "\n",
       "    .dataframe tbody tr th {\n",
       "        vertical-align: top;\n",
       "    }\n",
       "\n",
       "    .dataframe thead th {\n",
       "        text-align: right;\n",
       "    }\n",
       "</style>\n",
       "<table border=\"1\" class=\"dataframe\">\n",
       "  <thead>\n",
       "    <tr style=\"text-align: right;\">\n",
       "      <th></th>\n",
       "      <th>Player Name</th>\n",
       "    </tr>\n",
       "  </thead>\n",
       "  <tbody>\n",
       "  </tbody>\n",
       "</table>\n",
       "</div>"
      ],
      "text/plain": [
       "Empty DataFrame\n",
       "Columns: [Player Name]\n",
       "Index: []"
      ]
     },
     "execution_count": 12,
     "metadata": {},
     "output_type": "execute_result"
    }
   ],
   "source": [
    "#Start by pulling in our data from https://www.basketball-reference.com/leagues/NBA_2022_totals.html\n",
    "#start with giving it the URL\n",
    "projectURL = \"https://www.basketball-reference.com/leagues/NBA_2022_totals.html\"\n",
    "projectPage = urllib.request.urlopen(projectURL).read()\n",
    "projectSoup = BeautifulSoup(projectPage)\n",
    "\n",
    "#Next give it the table we want (might add more later on and use 2 tables but this is a start)\n",
    "basketballTable = projectSoup.find(id = \"div_totals_stats\")\n",
    "info = basketballTable.find_all(class_ = \"full_table\")\n",
    "basketballDataBody = basketballTable.find(\"tbody\")\n",
    "basketballTables = basketballDataBody.find_all(\"tr\")\n",
    "\n",
    "# List of what we want printed\n",
    "playerName = []\n",
    "\n",
    "\n",
    "\n",
    "#printing\n",
    "playerData = pd.DataFrame()\n",
    "playerData['Player Name'] = playerName\n",
    "\n",
    "playerData"
   ]
  },
  {
   "cell_type": "code",
   "execution_count": null,
   "id": "e0c3b733",
   "metadata": {},
   "outputs": [],
   "source": []
  }
 ],
 "metadata": {
  "kernelspec": {
   "display_name": "Python 3 (ipykernel)",
   "language": "python",
   "name": "python3"
  },
  "language_info": {
   "codemirror_mode": {
    "name": "ipython",
    "version": 3
   },
   "file_extension": ".py",
   "mimetype": "text/x-python",
   "name": "python",
   "nbconvert_exporter": "python",
   "pygments_lexer": "ipython3",
   "version": "3.9.13"
  }
 },
 "nbformat": 4,
 "nbformat_minor": 5
}
